{
 "cells": [
  {
   "cell_type": "code",
   "execution_count": null,
   "metadata": {
    "collapsed": true
   },
   "outputs": [],
   "source": [
    "\"\"\"\n",
    "    Solve a differential equation x'=f(x,t) by the order 4 Runge Kutta method.\n",
    "    WHERE x'=f(x,t) is a vectorial ecuation.\n",
    "    EACH component is an EDO\n",
    "    The function f(x,t) is defined as a python function named \"f\".\n",
    "    K1,K2,K3 and K4 are computed in the python function \"RK4\".\n",
    "    An initial value x(t) is needed, we save n points of the curve x(t) in the interval [t,b]\n",
    "    \n",
    "    NON-ADAPTATIVE ALGORITHM\n",
    "    \n",
    "    Author of code: Javier Aguilar Sánchez\n",
    "    \n",
    "    REFERENCES:\n",
    "    Kincaid, D. R., & Cheney, E. W. (2002). Numerical analysis: \n",
    "    mathematics of scientific computing (Vol. 2). American Mathematical Soc..\n",
    "\"\"\""
   ]
  },
  {
   "cell_type": "code",
   "execution_count": 32,
   "metadata": {
    "collapsed": true
   },
   "outputs": [],
   "source": [
    "import numpy as np"
   ]
  },
  {
   "cell_type": "code",
   "execution_count": 33,
   "metadata": {},
   "outputs": [],
   "source": [
    "def f(t,x,dim,nu,a):\n",
    "    \"\"\"\n",
    "    Rikitake model of geomagnetic reversals\n",
    "    \"\"\"\n",
    "    aux=np.zeros(dim,dtype=float)\n",
    "    aux[0]=-nu*x[0]+x[1]*x[2]\n",
    "    aux[1]=-nu*x[1]+(x[2]-a)*x[0]\n",
    "    aux[2]=1-x[0]*x[1]\n",
    "    return aux"
   ]
  },
  {
   "cell_type": "code",
   "execution_count": 45,
   "metadata": {
    "collapsed": true
   },
   "outputs": [],
   "source": [
    "def RK4(t,x,h,dim,nu,a):\n",
    "    k1=f(t,x,dim,nu,a)\n",
    "    k2=f(t+0.5*h,x+0.5*h*k1,dim,nu,a)\n",
    "    k3=f(t+0.5*h,x+0.5*h*k2,dim,nu,a)\n",
    "    k4=f(t+h,x+h*k3,dim,nu,a)\n",
    "    aux=np.array([k1,k2,k3,k4]) #array of arrays\n",
    "    return aux"
   ]
  },
  {
   "cell_type": "code",
   "execution_count": 71,
   "metadata": {},
   "outputs": [],
   "source": [
    "nu=1.0\n",
    "a=5.0\n",
    "dim=3 #Dimension of ODE\n",
    "#Solution's interval [t,b], number of points\n",
    "n=4000\n",
    "t=0.0\n",
    "b=150.0\n",
    "#Tamaño de step\n",
    "h=(b-t)/float(n)\n",
    "x=np.array([0.850,1.175,0.723]) #Initial condition"
   ]
  },
  {
   "cell_type": "code",
   "execution_count": 72,
   "metadata": {},
   "outputs": [],
   "source": [
    "data=open(\"data.dat\",\"w\")\n",
    "for i in range(n):\n",
    "    y=RK4(t,x,h,dim,nu,a) # y[i]=ki\n",
    "    x=x+h*(y[0]+2*y[1]+2*y[2]+y[3])/6.0\n",
    "    t+=h\n",
    "    data.write(str(t)+\" \"+str(x[0])+\" \"+str(x[1])+\" \"+str(x[2])+\"\\n\")\n",
    "data.close()"
   ]
  },
  {
   "cell_type": "code",
   "execution_count": 73,
   "metadata": {
    "collapsed": true
   },
   "outputs": [],
   "source": [
    "#fixed points o Rikitake model\n",
    "k=np.sqrt((a+np.sqrt(a**2.0+4.0*nu**2.0))/(2.0*nu))\n",
    "y1=np.array([k,k**(-1),nu*k**2.0])\n",
    "y2=np.array([-k,-k**(-1),nu*k**2.0])\n",
    "file=open(\"fixed_points.dat\",\"w\")\n",
    "file.write(str(y1[0])+\" \"+str(y1[1])+\" \"+str(y1[2])+\"\\n\")\n",
    "file.write(str(y2[0])+\" \"+str(y2[1])+\" \"+str(y2[2])+\"\\n\")\n",
    "file.close()"
   ]
  }
 ],
 "metadata": {
  "kernelspec": {
   "display_name": "Python 3",
   "language": "python",
   "name": "python3"
  },
  "language_info": {
   "codemirror_mode": {
    "name": "ipython",
    "version": 3
   },
   "file_extension": ".py",
   "mimetype": "text/x-python",
   "name": "python",
   "nbconvert_exporter": "python",
   "pygments_lexer": "ipython3",
   "version": "3.6.1"
  }
 },
 "nbformat": 4,
 "nbformat_minor": 2
}
